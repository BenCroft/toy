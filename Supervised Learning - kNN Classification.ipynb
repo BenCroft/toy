{
 "cells": [
  {
   "cell_type": "markdown",
   "metadata": {},
   "source": [
    "# kNN CLASSIFICATION"
   ]
  },
  {
   "cell_type": "markdown",
   "metadata": {},
   "source": [
    "#### CASE:\n",
    "\n",
    "In this case study, we will use the kNN (k-Nearest Neighbors) supervised machine learning algorithm to develop a predictive model. \n",
    "\n",
    "For this case study, we want to use machine learning to make classification predictions about student data. Suppose we are an institution offering an online course for students, perhaps Machine Learning 101. We have offered this online course in the past, and we want to evaluate measures we can take to improve the learning experience and student success. To do so, we have decided to provided increased advising and tutoring to students who are deemed \"at-risk\" for completing the course successfully. However, we need to use a systematic method to classify students as \"critical\" or \"no problem\" with the course. We turn to k-Nearest Neighbors to detect the similarities/differences in students who are \"critical\" and students who are \"no problem.\"\n",
    "\n",
    "\n",
    "*Note: This data is completely fictional, and if we were modeling this in a professional/academic setting, we would probably include more than two factors. The purpose of this demonstration is to illustrate, at a very basic level, the kNN learning algorithm.*\n",
    "\n",
    "*The terms provided here are used generally. In a professional/academic setting, we would need to define these terms in precise and current language.*"
   ]
  },
  {
   "cell_type": "markdown",
   "metadata": {},
   "source": [
    "## INSTALL AND LOAD PACKAGES"
   ]
  },
  {
   "cell_type": "code",
   "execution_count": 17,
   "metadata": {},
   "outputs": [
    {
     "name": "stderr",
     "output_type": "stream",
     "text": [
      "Updating HTML index of packages in '.Library'\n",
      "Making 'packages.html' ... done\n",
      "Warning message in install.packages(\"tidyverse\"):\n",
      "“installation of package ‘tidyverse’ had non-zero exit status”Updating HTML index of packages in '.Library'\n",
      "Making 'packages.html' ... done\n",
      "Loading tidyverse: ggplot2\n",
      "Loading tidyverse: tibble\n",
      "Loading tidyverse: tidyr\n",
      "Loading tidyverse: readr\n",
      "Loading tidyverse: purrr\n",
      "Loading tidyverse: dplyr\n",
      "Conflicts with tidy packages ---------------------------------------------------\n",
      "filter(): dplyr, stats\n",
      "lag():    dplyr, stats\n"
     ]
    }
   ],
   "source": [
    "install.packages(\"class\")\n",
    "install.packages(\"tidyverse\")\n",
    "\n",
    "library(\"class\", quietly = TRUE)\n",
    "library(\"tidyverse\", quietly = TRUE)"
   ]
  },
  {
   "cell_type": "markdown",
   "metadata": {},
   "source": [
    "## LOAD DATA (both training and test sets)"
   ]
  },
  {
   "cell_type": "code",
   "execution_count": 7,
   "metadata": {
    "collapsed": true
   },
   "outputs": [],
   "source": [
    "# Read CSV into R\n",
    "trainSet <- read.csv(file=\"https://raw.githubusercontent.com/BenCroft/Portfolio/master/Data/TRAIN.csv\", header=TRUE, sep=\",\")\n",
    "testSet <- read.csv(file=\"https://raw.githubusercontent.com/BenCroft/Portfolio/master/Data/TEST.csv\", header=TRUE, sep=\",\")\n"
   ]
  },
  {
   "cell_type": "markdown",
   "metadata": {},
   "source": [
    "Let's get a quick glimpse of our two datasets."
   ]
  },
  {
   "cell_type": "code",
   "execution_count": 8,
   "metadata": {},
   "outputs": [
    {
     "data": {
      "text/html": [
       "<table>\n",
       "<thead><tr><th scope=col>CLASS</th><th scope=col>GPA</th><th scope=col>Grade</th></tr></thead>\n",
       "<tbody>\n",
       "\t<tr><td>Critical</td><td>3.0     </td><td>74      </td></tr>\n",
       "\t<tr><td>Critical</td><td>2.4     </td><td>70      </td></tr>\n",
       "\t<tr><td>Critical</td><td>2.7     </td><td>72      </td></tr>\n",
       "\t<tr><td>Critical</td><td>2.9     </td><td>85      </td></tr>\n",
       "\t<tr><td>Critical</td><td>2.5     </td><td>90      </td></tr>\n",
       "\t<tr><td>Critical</td><td>2.6     </td><td>95      </td></tr>\n",
       "</tbody>\n",
       "</table>\n"
      ],
      "text/latex": [
       "\\begin{tabular}{r|lll}\n",
       " CLASS & GPA & Grade\\\\\n",
       "\\hline\n",
       "\t Critical & 3.0      & 74      \\\\\n",
       "\t Critical & 2.4      & 70      \\\\\n",
       "\t Critical & 2.7      & 72      \\\\\n",
       "\t Critical & 2.9      & 85      \\\\\n",
       "\t Critical & 2.5      & 90      \\\\\n",
       "\t Critical & 2.6      & 95      \\\\\n",
       "\\end{tabular}\n"
      ],
      "text/markdown": [
       "\n",
       "CLASS | GPA | Grade | \n",
       "|---|---|---|---|---|---|\n",
       "| Critical | 3.0      | 74       | \n",
       "| Critical | 2.4      | 70       | \n",
       "| Critical | 2.7      | 72       | \n",
       "| Critical | 2.9      | 85       | \n",
       "| Critical | 2.5      | 90       | \n",
       "| Critical | 2.6      | 95       | \n",
       "\n",
       "\n"
      ],
      "text/plain": [
       "  CLASS    GPA Grade\n",
       "1 Critical 3.0 74   \n",
       "2 Critical 2.4 70   \n",
       "3 Critical 2.7 72   \n",
       "4 Critical 2.9 85   \n",
       "5 Critical 2.5 90   \n",
       "6 Critical 2.6 95   "
      ]
     },
     "metadata": {},
     "output_type": "display_data"
    },
    {
     "data": {
      "text/html": [
       "<table>\n",
       "<thead><tr><th scope=col>CLASS</th><th scope=col>GPA</th><th scope=col>Grade</th></tr></thead>\n",
       "<tbody>\n",
       "\t<tr><td>No Problem</td><td>4.0       </td><td>94        </td></tr>\n",
       "\t<tr><td>Critical  </td><td>2.7       </td><td>89        </td></tr>\n",
       "\t<tr><td>No Problem</td><td>3.8       </td><td>81        </td></tr>\n",
       "\t<tr><td>No Problem</td><td>3.8       </td><td>92        </td></tr>\n",
       "\t<tr><td>No Problem</td><td>3.2       </td><td>92        </td></tr>\n",
       "\t<tr><td>Critical  </td><td>2.1       </td><td>90        </td></tr>\n",
       "</tbody>\n",
       "</table>\n"
      ],
      "text/latex": [
       "\\begin{tabular}{r|lll}\n",
       " CLASS & GPA & Grade\\\\\n",
       "\\hline\n",
       "\t No Problem & 4.0        & 94        \\\\\n",
       "\t Critical   & 2.7        & 89        \\\\\n",
       "\t No Problem & 3.8        & 81        \\\\\n",
       "\t No Problem & 3.8        & 92        \\\\\n",
       "\t No Problem & 3.2        & 92        \\\\\n",
       "\t Critical   & 2.1        & 90        \\\\\n",
       "\\end{tabular}\n"
      ],
      "text/markdown": [
       "\n",
       "CLASS | GPA | Grade | \n",
       "|---|---|---|---|---|---|\n",
       "| No Problem | 4.0        | 94         | \n",
       "| Critical   | 2.7        | 89         | \n",
       "| No Problem | 3.8        | 81         | \n",
       "| No Problem | 3.8        | 92         | \n",
       "| No Problem | 3.2        | 92         | \n",
       "| Critical   | 2.1        | 90         | \n",
       "\n",
       "\n"
      ],
      "text/plain": [
       "  CLASS      GPA Grade\n",
       "1 No Problem 4.0 94   \n",
       "2 Critical   2.7 89   \n",
       "3 No Problem 3.8 81   \n",
       "4 No Problem 3.8 92   \n",
       "5 No Problem 3.2 92   \n",
       "6 Critical   2.1 90   "
      ]
     },
     "metadata": {},
     "output_type": "display_data"
    }
   ],
   "source": [
    "head(trainSet)\n",
    "head(testSet)"
   ]
  },
  {
   "cell_type": "markdown",
   "metadata": {},
   "source": [
    "### We need to \"standardize\" both variables to be on the same spectrum (0 - 100), so that kNN weighs them equally."
   ]
  },
  {
   "cell_type": "code",
   "execution_count": 9,
   "metadata": {},
   "outputs": [],
   "source": [
    "trainSet$GPA <- trainSet$GPA * 25\n",
    "testSet$GPA <- testSet$GPA * 25"
   ]
  },
  {
   "cell_type": "markdown",
   "metadata": {},
   "source": [
    "### Let's take a quick glance at both the training set and the test set"
   ]
  },
  {
   "cell_type": "code",
   "execution_count": 93,
   "metadata": {},
   "outputs": [
    {
     "data": {
      "text/html": [
       "<table>\n",
       "<thead><tr><th scope=col>CLASS</th><th scope=col>GPA</th><th scope=col>Grade</th></tr></thead>\n",
       "<tbody>\n",
       "\t<tr><td>Critical</td><td>75.0    </td><td>74      </td></tr>\n",
       "\t<tr><td>Critical</td><td>60.0    </td><td>70      </td></tr>\n",
       "\t<tr><td>Critical</td><td>67.5    </td><td>72      </td></tr>\n",
       "</tbody>\n",
       "</table>\n"
      ],
      "text/latex": [
       "\\begin{tabular}{r|lll}\n",
       " CLASS & GPA & Grade\\\\\n",
       "\\hline\n",
       "\t Critical & 75.0     & 74      \\\\\n",
       "\t Critical & 60.0     & 70      \\\\\n",
       "\t Critical & 67.5     & 72      \\\\\n",
       "\\end{tabular}\n"
      ],
      "text/markdown": [
       "\n",
       "CLASS | GPA | Grade | \n",
       "|---|---|---|\n",
       "| Critical | 75.0     | 74       | \n",
       "| Critical | 60.0     | 70       | \n",
       "| Critical | 67.5     | 72       | \n",
       "\n",
       "\n"
      ],
      "text/plain": [
       "  CLASS    GPA  Grade\n",
       "1 Critical 75.0 74   \n",
       "2 Critical 60.0 70   \n",
       "3 Critical 67.5 72   "
      ]
     },
     "metadata": {},
     "output_type": "display_data"
    },
    {
     "data": {
      "text/html": [
       "<table>\n",
       "<thead><tr><th scope=col>CLASS</th><th scope=col>GPA</th><th scope=col>Grade</th></tr></thead>\n",
       "<tbody>\n",
       "\t<tr><td>No Problem</td><td>100.0     </td><td>94        </td></tr>\n",
       "\t<tr><td>Critical  </td><td> 67.5     </td><td>89        </td></tr>\n",
       "\t<tr><td>No Problem</td><td> 95.0     </td><td>81        </td></tr>\n",
       "</tbody>\n",
       "</table>\n"
      ],
      "text/latex": [
       "\\begin{tabular}{r|lll}\n",
       " CLASS & GPA & Grade\\\\\n",
       "\\hline\n",
       "\t No Problem & 100.0      & 94        \\\\\n",
       "\t Critical   &  67.5      & 89        \\\\\n",
       "\t No Problem &  95.0      & 81        \\\\\n",
       "\\end{tabular}\n"
      ],
      "text/markdown": [
       "\n",
       "CLASS | GPA | Grade | \n",
       "|---|---|---|\n",
       "| No Problem | 100.0      | 94         | \n",
       "| Critical   |  67.5      | 89         | \n",
       "| No Problem |  95.0      | 81         | \n",
       "\n",
       "\n"
      ],
      "text/plain": [
       "  CLASS      GPA   Grade\n",
       "1 No Problem 100.0 94   \n",
       "2 Critical    67.5 89   \n",
       "3 No Problem  95.0 81   "
      ]
     },
     "metadata": {},
     "output_type": "display_data"
    }
   ],
   "source": [
    "head(trainSet,3)\n",
    "head(testSet,3)"
   ]
  },
  {
   "cell_type": "code",
   "execution_count": 94,
   "metadata": {},
   "outputs": [
    {
     "data": {
      "text/plain": [
       "\n",
       "  Critical No Problem \n",
       "        46         87 "
      ]
     },
     "metadata": {},
     "output_type": "display_data"
    },
    {
     "data": {
      "text/plain": [
       "\n",
       "  Critical No Problem \n",
       "         6          4 "
      ]
     },
     "metadata": {},
     "output_type": "display_data"
    }
   ],
   "source": [
    "table(trainSet$CLASS)\n",
    "table(testSet$CLASS)"
   ]
  },
  {
   "cell_type": "markdown",
   "metadata": {},
   "source": [
    "The above summaries show us that there are two status categories for students in the class: \"Critical\" and \"No Problem.\" There are a total of 133 students in the training set, and we want to classify the status of 10 students in the training set."
   ]
  },
  {
   "cell_type": "markdown",
   "metadata": {},
   "source": [
    "******\n",
    "## Selecting the \"k\" in \"knn\"\n",
    "\n",
    "The k-Nearest Neighbors algorithm systematically evaluates each data point in our training set, and looks at where its nearest neighbor (read: most similar data point is). The `knn` function uses Euclidean distance to measure the proximity of a point with its neighbor.\n",
    "\n",
    "When we select our k-level, we are telling the algorithm to look at a data point's k nearest neighbor is. This means if our k is set to 13, for example, the algorithm will classify data point 1's outcome by examining the outcomes of data points 2-14. Whichever status gets the \"majority vote\" by these 13 data points will be what the algorithm predicts for data point 1's status. \n",
    "\n",
    "There is no \"perfect\" k-level to fit datasets. Each dataset is unique, and either a higher or lower k-level may do the trick.\n",
    "\n",
    "### knn Predictions with k = 1"
   ]
  },
  {
   "cell_type": "code",
   "execution_count": 60,
   "metadata": {},
   "outputs": [],
   "source": [
    "# Create predictions for the test set outcomes using the knn model we trained on the training data\n",
    "predictions_1 <- knn(trainSet[-1], testSet[-1], trainSet$CLASS)"
   ]
  },
  {
   "cell_type": "code",
   "execution_count": 61,
   "metadata": {
    "collapsed": true
   },
   "outputs": [],
   "source": [
    "# Create a vector that contains the actual outcomes for the test set\n",
    "class_actual_1 <- testSet$CLASS"
   ]
  },
  {
   "cell_type": "code",
   "execution_count": 62,
   "metadata": {},
   "outputs": [
    {
     "data": {
      "text/plain": [
       "             class_actual_1\n",
       "predictions_1 Critical No Problem\n",
       "   Critical          5          0\n",
       "   No Problem        1          4"
      ]
     },
     "metadata": {},
     "output_type": "display_data"
    }
   ],
   "source": [
    "# Construct a two-way table that illustrates the accuracy of our knn = 1 algorithm\n",
    "table(predictions_1, class_actual_1)"
   ]
  },
  {
   "cell_type": "code",
   "execution_count": 63,
   "metadata": {},
   "outputs": [
    {
     "data": {
      "text/html": [
       "0.9"
      ],
      "text/latex": [
       "0.9"
      ],
      "text/markdown": [
       "0.9"
      ],
      "text/plain": [
       "[1] 0.9"
      ]
     },
     "metadata": {},
     "output_type": "display_data"
    }
   ],
   "source": [
    "# Compute the average accuracy of the model\n",
    "mean(predictions_1 == class_actual_1)"
   ]
  },
  {
   "cell_type": "markdown",
   "metadata": {},
   "source": [
    "Using a k=1 model, we see that our algorithm successfully classified 9 out of 10 of the data points. Why? Because in 9 out of 10 cases, the 1-nearest-neighbor distance between \"critical\" data points was clustered, as were the \"no problem\" data points. In one case, the model incorrectly classified a data point as \"critical\" when the point really should have been \"no problem.\""
   ]
  },
  {
   "cell_type": "markdown",
   "metadata": {
    "collapsed": true
   },
   "source": [
    "### knn Predictions with k = 5"
   ]
  },
  {
   "cell_type": "code",
   "execution_count": 64,
   "metadata": {},
   "outputs": [],
   "source": [
    "predictions_5 <- knn(trainSet[-1], testSet[-1], trainSet$CLASS, k = 5)"
   ]
  },
  {
   "cell_type": "code",
   "execution_count": 65,
   "metadata": {
    "collapsed": true
   },
   "outputs": [],
   "source": [
    "class_actual_5 <- testSet$CLASS"
   ]
  },
  {
   "cell_type": "code",
   "execution_count": 66,
   "metadata": {},
   "outputs": [
    {
     "data": {
      "text/plain": [
       "             class_actual_5\n",
       "predictions_5 Critical No Problem\n",
       "   Critical          6          0\n",
       "   No Problem        0          4"
      ]
     },
     "metadata": {},
     "output_type": "display_data"
    }
   ],
   "source": [
    "table(predictions_5, class_actual_5)"
   ]
  },
  {
   "cell_type": "code",
   "execution_count": 67,
   "metadata": {},
   "outputs": [
    {
     "data": {
      "text/html": [
       "1"
      ],
      "text/latex": [
       "1"
      ],
      "text/markdown": [
       "1"
      ],
      "text/plain": [
       "[1] 1"
      ]
     },
     "metadata": {},
     "output_type": "display_data"
    }
   ],
   "source": [
    "mean(predictions_5 == class_actual_5)"
   ]
  },
  {
   "cell_type": "markdown",
   "metadata": {},
   "source": [
    "By setting our k to 5, we correctly classified 100% of the data!"
   ]
  },
  {
   "cell_type": "markdown",
   "metadata": {},
   "source": [
    "### knn Predictions with k = 8"
   ]
  },
  {
   "cell_type": "code",
   "execution_count": 89,
   "metadata": {
    "collapsed": true
   },
   "outputs": [],
   "source": [
    "predictions_8 <- knn(trainSet[-1], testSet[-1], trainSet$CLASS, k = 8)"
   ]
  },
  {
   "cell_type": "code",
   "execution_count": 90,
   "metadata": {
    "collapsed": true
   },
   "outputs": [],
   "source": [
    "class_actual_8 <- testSet$CLASS"
   ]
  },
  {
   "cell_type": "code",
   "execution_count": 91,
   "metadata": {},
   "outputs": [
    {
     "data": {
      "text/plain": [
       "             class_actual_8\n",
       "predictions_8 Critical No Problem\n",
       "   Critical          5          0\n",
       "   No Problem        1          4"
      ]
     },
     "metadata": {},
     "output_type": "display_data"
    }
   ],
   "source": [
    "table(predictions_8, class_actual_8)"
   ]
  },
  {
   "cell_type": "code",
   "execution_count": 95,
   "metadata": {},
   "outputs": [
    {
     "data": {
      "text/html": [
       "0.9"
      ],
      "text/latex": [
       "0.9"
      ],
      "text/markdown": [
       "0.9"
      ],
      "text/plain": [
       "[1] 0.9"
      ]
     },
     "metadata": {},
     "output_type": "display_data"
    }
   ],
   "source": [
    "mean(predictions_8 == class_actual_8)"
   ]
  },
  {
   "cell_type": "markdown",
   "metadata": {},
   "source": [
    "By increasing our k to 8, we began to see a decrease in the accuracy of our model."
   ]
  },
  {
   "cell_type": "markdown",
   "metadata": {},
   "source": [
    "### Algorithm to identify the best \"k\""
   ]
  },
  {
   "cell_type": "code",
   "execution_count": 97,
   "metadata": {},
   "outputs": [
    {
     "data": {
      "text/html": [
       "10"
      ],
      "text/latex": [
       "10"
      ],
      "text/markdown": [
       "10"
      ],
      "text/plain": [
       "[1] 10"
      ]
     },
     "metadata": {},
     "output_type": "display_data"
    }
   ],
   "source": [
    "numberLoops = nrow(testSet)\n",
    "numberLoops"
   ]
  },
  {
   "cell_type": "markdown",
   "metadata": {},
   "source": [
    "We will loop 10 times through the data, each time with an increased number of k-Nearest Neighbors."
   ]
  },
  {
   "cell_type": "code",
   "execution_count": 174,
   "metadata": {},
   "outputs": [
    {
     "name": "stdout",
     "output_type": "stream",
     "text": [
      "The accuracy of k = 1 is 90 percent \n",
      "The accuracy of k = 2 is 100 percent \n",
      "The accuracy of k = 3 is 100 percent \n",
      "The accuracy of k = 4 is 100 percent \n",
      "The accuracy of k = 5 is 100 percent \n",
      "The accuracy of k = 6 is 100 percent \n",
      "The accuracy of k = 7 is 100 percent \n",
      "The accuracy of k = 8 is 90 percent \n",
      "The accuracy of k = 9 is 90 percent \n",
      "The accuracy of k = 10 is 90 percent \n"
     ]
    }
   ],
   "source": [
    "for (i in 1:numberLoops) {\n",
    "    predictions <- knn(trainSet[-1], testSet[-1], trainSet$CLASS, k = i)\n",
    "    class_actual <- testSet$CLASS\n",
    "    accuracy <- (mean(predictions == class_actual))\n",
    "    cat(\"The accuracy of k =\", i, \"is\", accuracy*100.0, \"percent\", \"\\n\")\n",
    "\n",
    "}"
   ]
  },
  {
   "cell_type": "markdown",
   "metadata": {},
   "source": [
    "### It looks like the best number of nearest neighbors for this classification is k = [2,7].\n",
    "\n",
    "If we set our k to a number in this range, we will identify students as \"critical\" or \"no problem\" successfully, allowing us to target our efforts to assisting students in need."
   ]
  }
 ],
 "metadata": {
  "hide_input": false,
  "kernelspec": {
   "display_name": "R",
   "language": "R",
   "name": "ir"
  },
  "language_info": {
   "codemirror_mode": "r",
   "file_extension": ".r",
   "mimetype": "text/x-r-source",
   "name": "R",
   "pygments_lexer": "r",
   "version": "3.5.1"
  },
  "toc": {
   "base_numbering": 1,
   "nav_menu": {},
   "number_sections": true,
   "sideBar": true,
   "skip_h1_title": false,
   "title_cell": "Table of Contents",
   "title_sidebar": "Contents",
   "toc_cell": false,
   "toc_position": {},
   "toc_section_display": true,
   "toc_window_display": true
  }
 },
 "nbformat": 4,
 "nbformat_minor": 2
}
